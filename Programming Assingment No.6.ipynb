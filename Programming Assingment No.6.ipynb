{
 "cells": [
  {
   "cell_type": "markdown",
   "id": "1e571aed",
   "metadata": {},
   "source": [
    "1) Write a Python program to diplay fibonacci sequence using recursion?"
   ]
  },
  {
   "cell_type": "code",
   "execution_count": 3,
   "id": "4986fc6a",
   "metadata": {},
   "outputs": [
    {
     "name": "stdout",
     "output_type": "stream",
     "text": [
      "Fibonacci Sequence:\n",
      "0\n",
      "1\n",
      "1\n",
      "2\n",
      "3\n",
      "5\n",
      "8\n",
      "13\n",
      "21\n",
      "34\n",
      "55\n",
      "89\n",
      "144\n",
      "233\n",
      "377\n"
     ]
    }
   ],
   "source": [
    "def recur_fibo(n):\n",
    "    if n <= 1:\n",
    "        return n\n",
    "    else:\n",
    "        return(recur_fibo(n-1) + recur_fibo(n-2))\n",
    "nterms = 15\n",
    "if nterms <= 0:\n",
    "    print(\"please enter positive interger\")\n",
    "else:\n",
    "    print(\"Fibonacci Sequence:\")\n",
    "    for i in range (nterms):\n",
    "        print(recur_fibo(i))"
   ]
  },
  {
   "cell_type": "markdown",
   "id": "c556600d",
   "metadata": {},
   "source": [
    "2) Write a Python Program to Find Factorial of Number Using Recursion?"
   ]
  },
  {
   "cell_type": "code",
   "execution_count": 9,
   "id": "5106ee11",
   "metadata": {},
   "outputs": [
    {
     "name": "stdout",
     "output_type": "stream",
     "text": [
      "the factorial of 5 is 120\n"
     ]
    }
   ],
   "source": [
    "def recur_factorial(n):\n",
    "    if n == 1:\n",
    "        return n\n",
    "    else:\n",
    "        return n*recur_factorial(n-1)\n",
    "n = 5\n",
    "\n",
    "if n < 0:\n",
    "    print(\"sorry factorial does not exist negative number \")\n",
    "if n == 0:\n",
    "    print(\"factorial of 0 is 1\")\n",
    "else:\n",
    "    print(\"the factorial of\",num,\"is\",recur_factorial(num))"
   ]
  },
  {
   "cell_type": "markdown",
   "id": "4f62c4e3",
   "metadata": {},
   "source": [
    "3) Write a Python Program to calculate your Body Mass Index?"
   ]
  },
  {
   "cell_type": "code",
   "execution_count": null,
   "id": "bf511305",
   "metadata": {},
   "outputs": [],
   "source": [
    "def BMI(height,weight):\n",
    "    bmi = weight/(height/100)**2\n",
    "    return bmi\n",
    "    \n",
    "weight = 71\n",
    "height = 160\n",
    "\n",
    "bmi = BMI(height,weight)\n",
    "print(\"Your BMI is\",format(bmi),end=\"\")"
   ]
  },
  {
   "cell_type": "markdown",
   "id": "33410fa4",
   "metadata": {},
   "source": [
    "4) Write a Python Program to calculate the natural logarithm of any number?"
   ]
  },
  {
   "cell_type": "code",
   "execution_count": 26,
   "id": "b3d31885",
   "metadata": {},
   "outputs": [
    {
     "name": "stdout",
     "output_type": "stream",
     "text": [
      "Natural logarithm of n is : 3.4011973816621555\n"
     ]
    }
   ],
   "source": [
    "import math\n",
    "\n",
    "n = 30\n",
    "print(\"Natural logarithm of n is : \",end =\"\")\n",
    "print(math.log(n))"
   ]
  },
  {
   "cell_type": "markdown",
   "id": "ce9a3203",
   "metadata": {},
   "source": [
    "5) Write a Python Program for cube sum of first n natural numbers?"
   ]
  },
  {
   "cell_type": "code",
   "execution_count": 30,
   "id": "1e0b5029",
   "metadata": {},
   "outputs": [
    {
     "name": "stdout",
     "output_type": "stream",
     "text": [
      "36\n"
     ]
    }
   ],
   "source": [
    "def sumofseries(n):\n",
    "    sum = 0\n",
    "    for i in range(1,n+1):\n",
    "        sum+=i*i*i\n",
    "    return sum\n",
    "n = 3\n",
    "print(sumofseries(n))\n",
    "    "
   ]
  },
  {
   "cell_type": "code",
   "execution_count": null,
   "id": "e09f0934",
   "metadata": {},
   "outputs": [],
   "source": []
  }
 ],
 "metadata": {
  "kernelspec": {
   "display_name": "Python 3 (ipykernel)",
   "language": "python",
   "name": "python3"
  },
  "language_info": {
   "codemirror_mode": {
    "name": "ipython",
    "version": 3
   },
   "file_extension": ".py",
   "mimetype": "text/x-python",
   "name": "python",
   "nbconvert_exporter": "python",
   "pygments_lexer": "ipython3",
   "version": "3.9.7"
  }
 },
 "nbformat": 4,
 "nbformat_minor": 5
}
